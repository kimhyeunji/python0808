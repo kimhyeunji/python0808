{
 "cells": [
  {
   "cell_type": "markdown",
   "id": "1c32abb7",
   "metadata": {},
   "source": [
    "# 파이썬 정규표현식"
   ]
  },
  {
   "cell_type": "markdown",
   "id": "e6ae61c8",
   "metadata": {},
   "source": [
    "주요 개념:  \n",
    "패턴(Pattern): 특정 규칙을 가진 문자열. 이 패턴을 사용하여 다른 문자열에서 일치하는 부분을 찾을 수 있습니다.  \n",
    "\n",
    "메타 문자(Meta Characters): 정규 표현식에서 특별한 의미를 가진 문자들.  \n",
    "\n",
    ". ^ $ * + ? { } [ ] \\ | ( )  \n",
    "주요 함수:    \n",
    "\n",
    "re.match(): 문자열의 시작부터 패턴과 일치하는지 검사합니다.    \n",
    "\n",
    "re.search(): 문자열 전체에서 패턴과 일치하는 부분을 검색합니다.    \n",
    "\n",
    "re.findall(): 문자열에서 패턴과 일치하는 모든 부분을 리스트로 반환합니다.  \n",
    "\n",
    "re.finditer(): 패턴과 일치하는 모든 부분을 반복자로 반환합니다.  \n",
    "\n",
    "re.sub(): 문자열에서 패턴과 일치하는 부분을 다른 문자열로 치환합니다.  \n",
    "\n",
    "주요 패턴:  \n",
    ".: 어떤 한개의 문자와 일치 (줄바꿈 문자 제외)  \n",
    "^: 문자열의 시작과 일치  \n",
    "$: 문자열의 끝과 일치  \n",
    "*: 앞의 문자(또는 그룹)가 0회 이상 반복되는 부분과 일치   \n",
    "+: 앞의 문자(또는 그룹)가 1회 이상 반복되는 부분과 일치  \n",
    "?: 앞의 문자(또는 그룹)가 0회 또는 1회 있는 부분과 일치  \n",
    "{m}: 앞의 문자(또는 그룹)가 m회 반복되는 부분과 일치  \n",
    "{m,n}: 앞의 문자(또는 그룹)가 m회부터 n회까지 반복되는 부분과 일치  \n",
    "[...]: 대괄호 안의 문자들 중 하나와 일치  \n",
    "[^...]: 대괄호 안의 문자들을 제외한 문자와 일치  \n",
    "\\d: 숫자와 일치  \n",
    "\\D: 숫자가 아닌 문자와 일치  \n",
    "\\s: 공백 문자와 일치  \n",
    "\\S: 공백 문자가 아닌 문자와 일치  \n",
    "\\w: 알파벳, 숫자, 밑줄 문자와 일치  \n",
    "\\W: 알파벳, 숫자, 밑줄 문자가 아닌 문자와 일치  "
   ]
  },
  {
   "cell_type": "markdown",
   "id": "d078b73c",
   "metadata": {},
   "source": [
    "re.sub(pattern, replacement, string)"
   ]
  },
  {
   "cell_type": "code",
   "execution_count": null,
   "id": "3297d27e",
   "metadata": {},
   "outputs": [],
   "source": [
    "[0-9a-z\\-_.]*\n",
    "\n",
    "re.sub('[^0-9a-z\\-_.]*',\"\",new_id)\n",
    "\n",
    "re.sub([.]+,'.',new_id)\n",
    "re.sub([.]{1, })\n",
    "\n",
    "\n",
    "#앞에와 뒤에 없애주겠다 \n",
    "res.sub('^[.][.]$',\"\",new_id)"
   ]
  },
  {
   "cell_type": "markdown",
   "id": "76b93e65",
   "metadata": {},
   "source": [
    "# 정규표현식"
   ]
  },
  {
   "cell_type": "code",
   "execution_count": 18,
   "id": "c162720a",
   "metadata": {},
   "outputs": [],
   "source": [
    "import re \n",
    "string = 'The Regular Expresion !!! 0123 @#! 한글'"
   ]
  },
  {
   "cell_type": "code",
   "execution_count": 9,
   "id": "9dbc51fb",
   "metadata": {},
   "outputs": [
    {
     "name": "stdout",
     "output_type": "stream",
     "text": [
      "['he', 'egular', 'xpresion']\n"
     ]
    }
   ],
   "source": [
    "# 소문자만, +는 1번 이상 반복\n",
    "pattern = re.compile('[a-z]+')\n",
    "print(pattern.findall(string))"
   ]
  },
  {
   "cell_type": "code",
   "execution_count": 14,
   "id": "b5d6cdaf",
   "metadata": {},
   "outputs": [
    {
     "name": "stdout",
     "output_type": "stream",
     "text": [
      "['', 'h', 'e', '', '', 'e', 'g', 'u', 'l', 'a', 'r', '', '', 'x', 'p', 'r', 'e', 's', 'i', 'o', 'n', '', '', '', '', '', '', '', '', '', '', '', '', '', '', '', '']\n"
     ]
    }
   ],
   "source": [
    "# 소문자만, ? 는 0번 또는 1번 이상 표시 \n",
    "pattern = re.compile('[a-z]?')\n",
    "print(pattern.findall(string))"
   ]
  },
  {
   "cell_type": "code",
   "execution_count": 19,
   "id": "1c9dff90",
   "metadata": {},
   "outputs": [
    {
     "name": "stdout",
     "output_type": "stream",
     "text": [
      "['The', 'Regular', 'Expresion', '01']\n"
     ]
    }
   ],
   "source": [
    "# 소문자, 대문자, 숫자, + 는 1번 이상 반복\n",
    "pattern = re.compile('[a-zA-Z0-1]+')\n",
    "print(pattern.findall(string))"
   ]
  },
  {
   "cell_type": "code",
   "execution_count": 20,
   "id": "99a73c0d",
   "metadata": {},
   "outputs": [
    {
     "name": "stdout",
     "output_type": "stream",
     "text": [
      "['T', 'h', 'e', '', 'R', 'e', 'g', 'u', 'l', 'a', 'r', '', 'E', 'x', 'p', 'r', 'e', 's', 'i', 'o', 'n', '', '', '', '', '', '0', '1', '2', '3', '', '', '', '', '', '', '', '']\n"
     ]
    }
   ],
   "source": [
    "# 소문자, 대문자, 숫자, ?는 0번 또는 1번 이상 표시 \n",
    "pattern = re.compile('[a-zA-Z0-9]?')\n",
    "print(pattern.findall(string))"
   ]
  },
  {
   "cell_type": "code",
   "execution_count": 21,
   "id": "2b5772b9",
   "metadata": {},
   "outputs": [
    {
     "name": "stdout",
     "output_type": "stream",
     "text": [
      "['The', '', 'Regular', '', 'Expresion', '', '', '', '', '', '0123', '', '', '', '', '', '', '', '']\n"
     ]
    }
   ],
   "source": [
    "# 소문자, 대문자, 숫자, *는 0번 또는 그 이상 표시 \n",
    "pattern = re.compile('[a-zA-Z0-9]*')\n",
    "print(pattern.findall(string))"
   ]
  },
  {
   "cell_type": "markdown",
   "id": "5ddb0a31",
   "metadata": {},
   "source": [
    "### sub 제일 많이 쓸거같음!!"
   ]
  },
  {
   "cell_type": "code",
   "execution_count": 24,
   "id": "fdde9874",
   "metadata": {},
   "outputs": [
    {
     "name": "stdout",
     "output_type": "stream",
     "text": [
      "970609_*******\n"
     ]
    }
   ],
   "source": [
    "# 주민번호 뒷번호를 *******로 치환\n",
    "string = '970609-2311554'\n",
    "# 기호 '-' 와 0~9까지의 숫자 7개 반복의 패턴 정의  {6} - {7}\n",
    "pattern = '-[0-9]{7}'\n",
    "# sub(정규표현식, 바꿀문자열, 입력문자열)\n",
    "print(re.sub(pattern,'_*******', string))"
   ]
  },
  {
   "cell_type": "code",
   "execution_count": 27,
   "id": "d27fa01c",
   "metadata": {},
   "outputs": [
    {
     "name": "stdout",
     "output_type": "stream",
     "text": [
      "['key', 'value']\n",
      "['hey', 'here', 'daddy']\n"
     ]
    }
   ],
   "source": [
    "# split 예제\n",
    "pattern = re.compile(':')\n",
    "print(pattern.split('key:value'))\n",
    "print(pattern.split('hey:here:daddy'))\n"
   ]
  },
  {
   "cell_type": "code",
   "execution_count": 28,
   "id": "f9338e4d",
   "metadata": {},
   "outputs": [],
   "source": [
    "string = \"\"\"Ross McFluff: 834.345.1254 155 Elm Street\n",
    "Ronald Heathmore: 892.345.3428 436 Finley Avenue\n",
    "Frank Burger: 925.541.7625 662 South Dogwood Way\n",
    "Heather Albrecht: 548.326.4584 919 Park Place\"\"\""
   ]
  },
  {
   "cell_type": "code",
   "execution_count": 29,
   "id": "5036d401",
   "metadata": {},
   "outputs": [
    {
     "name": "stdout",
     "output_type": "stream",
     "text": [
      "['Ross McFluff: 834.345.1254 155 Elm Street', 'Ronald Heathmore: 892.345.3428 436 Finley Avenue', 'Frank Burger: 925.541.7625 662 South Dogwood Way', 'Heather Albrecht: 548.326.4584 919 Park Place']\n"
     ]
    }
   ],
   "source": [
    "# 개행 문자를 기준으로 분리한 문자열 4개의 list\n",
    "entries = re.split(\"\\n+\", string)\n",
    "print(entries)"
   ]
  },
  {
   "cell_type": "code",
   "execution_count": 39,
   "id": "59fffa94",
   "metadata": {},
   "outputs": [
    {
     "name": "stdout",
     "output_type": "stream",
     "text": [
      "[['Ross', 'McFluff', '834.345.1254', '155', 'Elm Street'], ['Ronald', 'Heathmore', '892.345.3428', '436', 'Finley Avenue'], ['Frank', 'Burger', '925.541.7625', '662', 'South Dogwood Way'], ['Heather', 'Albrecht', '548.326.4584', '919', 'Park Place']]\n"
     ]
    }
   ],
   "source": [
    "# : 와 ' ' 공백 (space)을 패턴으로 4개의 list로 분리 \n",
    "result = [re.split(\":? \", entry, maxsplit=4) for entry in entries]\n",
    "print(result)"
   ]
  },
  {
   "cell_type": "code",
   "execution_count": null,
   "id": "bd536208",
   "metadata": {},
   "outputs": [],
   "source": []
  },
  {
   "cell_type": "code",
   "execution_count": null,
   "id": "0a6cf7a0",
   "metadata": {},
   "outputs": [],
   "source": []
  },
  {
   "cell_type": "code",
   "execution_count": null,
   "id": "ce7fd0f1",
   "metadata": {},
   "outputs": [],
   "source": []
  },
  {
   "cell_type": "code",
   "execution_count": null,
   "id": "67364725",
   "metadata": {},
   "outputs": [],
   "source": []
  },
  {
   "cell_type": "code",
   "execution_count": null,
   "id": "bb03c46e",
   "metadata": {},
   "outputs": [],
   "source": []
  },
  {
   "cell_type": "code",
   "execution_count": null,
   "id": "d1287674",
   "metadata": {},
   "outputs": [],
   "source": []
  }
 ],
 "metadata": {
  "kernelspec": {
   "display_name": "Python 3 (ipykernel)",
   "language": "python",
   "name": "python3"
  },
  "language_info": {
   "codemirror_mode": {
    "name": "ipython",
    "version": 3
   },
   "file_extension": ".py",
   "mimetype": "text/x-python",
   "name": "python",
   "nbconvert_exporter": "python",
   "pygments_lexer": "ipython3",
   "version": "3.9.7"
  }
 },
 "nbformat": 4,
 "nbformat_minor": 5
}
